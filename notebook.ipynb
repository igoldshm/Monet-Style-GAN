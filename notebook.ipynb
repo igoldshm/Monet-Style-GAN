{
 "cells": [
  {
   "cell_type": "code",
   "execution_count": 1,
   "id": "95a5d4f4",
   "metadata": {
    "_cell_guid": "b1076dfc-b9ad-4769-8c92-a6c4dae69d19",
    "_uuid": "8f2839f25d086af736a60e9eeb907d3b93b6e0e5",
    "execution": {
     "iopub.execute_input": "2025-03-20T04:46:07.796325Z",
     "iopub.status.busy": "2025-03-20T04:46:07.795915Z",
     "iopub.status.idle": "2025-03-20T04:46:08.589853Z",
     "shell.execute_reply": "2025-03-20T04:46:08.589037Z"
    },
    "papermill": {
     "duration": 0.798888,
     "end_time": "2025-03-20T04:46:08.591646",
     "exception": false,
     "start_time": "2025-03-20T04:46:07.792758",
     "status": "completed"
    },
    "tags": []
   },
   "outputs": [],
   "source": [
    "# This Python 3 environment comes with many helpful analytics libraries installed\n",
    "# It is defined by the kaggle/python Docker image: https://github.com/kaggle/docker-python\n",
    "# For example, here's several helpful packages to load\n",
    "\n",
    "import numpy as np # linear algebra\n",
    "import pandas as pd # data processing, CSV file I/O (e.g. pd.read_csv)\n",
    "\n",
    "# Input data files are available in the read-only \"../input/\" directory\n",
    "# For example, running this (by clicking run or pressing Shift+Enter) will list all files under the input directory\n",
    "\n",
    "import os\n",
    "for dirname, _, filenames in os.walk('/kaggle/input'):\n",
    "    for filename in filenames:\n",
    "        print(os.path.join(dirname, filename))\n",
    "\n",
    "# You can write up to 20GB to the current directory (/kaggle/working/) that gets preserved as output when you create a version using \"Save & Run All\" \n",
    "# You can also write temporary files to /kaggle/temp/, but they won't be saved outside of the current session"
   ]
  },
  {
   "cell_type": "code",
   "execution_count": 2,
   "id": "39bf3c72",
   "metadata": {
    "execution": {
     "iopub.execute_input": "2025-03-20T04:46:08.596177Z",
     "iopub.status.busy": "2025-03-20T04:46:08.595782Z",
     "iopub.status.idle": "2025-03-20T04:46:08.599444Z",
     "shell.execute_reply": "2025-03-20T04:46:08.598465Z"
    },
    "papermill": {
     "duration": 0.007404,
     "end_time": "2025-03-20T04:46:08.600979",
     "exception": false,
     "start_time": "2025-03-20T04:46:08.593575",
     "status": "completed"
    },
    "tags": []
   },
   "outputs": [],
   "source": [
    "monet_path = '/kaggle/input/gan-getting-started/monet_jpg/'\n",
    "photo_path = '/kaggle/input/gan-getting-started/photo_jpg/'"
   ]
  },
  {
   "cell_type": "code",
   "execution_count": 3,
   "id": "bfb0c7a7",
   "metadata": {
    "execution": {
     "iopub.execute_input": "2025-03-20T04:46:08.604846Z",
     "iopub.status.busy": "2025-03-20T04:46:08.604598Z",
     "iopub.status.idle": "2025-03-20T04:46:08.607933Z",
     "shell.execute_reply": "2025-03-20T04:46:08.607185Z"
    },
    "papermill": {
     "duration": 0.006726,
     "end_time": "2025-03-20T04:46:08.609277",
     "exception": false,
     "start_time": "2025-03-20T04:46:08.602551",
     "status": "completed"
    },
    "tags": []
   },
   "outputs": [],
   "source": [
    "#testing \n"
   ]
  }
 ],
 "metadata": {
  "kaggle": {
   "accelerator": "none",
   "dataSources": [],
   "isGpuEnabled": false,
   "isInternetEnabled": true,
   "language": "python",
   "sourceType": "notebook"
  },
  "kernelspec": {
   "display_name": "Python 3",
   "language": "python",
   "name": "python3"
  },
  "language_info": {
   "codemirror_mode": {
    "name": "ipython",
    "version": 3
   },
   "file_extension": ".py",
   "mimetype": "text/x-python",
   "name": "python",
   "nbconvert_exporter": "python",
   "pygments_lexer": "ipython3",
   "version": "3.10.12"
  },
  "papermill": {
   "default_parameters": {},
   "duration": 3.94788,
   "end_time": "2025-03-20T04:46:09.128530",
   "environment_variables": {},
   "exception": null,
   "input_path": "__notebook__.ipynb",
   "output_path": "__notebook__.ipynb",
   "parameters": {},
   "start_time": "2025-03-20T04:46:05.180650",
   "version": "2.6.0"
  }
 },
 "nbformat": 4,
 "nbformat_minor": 5
}
